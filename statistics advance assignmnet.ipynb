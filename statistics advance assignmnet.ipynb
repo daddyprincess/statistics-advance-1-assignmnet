{
 "cells": [
  {
   "cell_type": "markdown",
   "id": "109a99e5-146d-40fa-b411-4e89ec09cbad",
   "metadata": {},
   "source": [
    "## Q1. What is the Probability density function?"
   ]
  },
  {
   "cell_type": "code",
   "execution_count": null,
   "id": "bef939ea-9406-411c-a9a7-bef87685fd03",
   "metadata": {},
   "outputs": [],
   "source": [
    "The Probability Density Function (PDF) is a fundamental concept in probability and statistics. It is used to describe the\n",
    "probability distribution of a continuous random variable. The PDF represents the likelihood of the random variable taking on a \n",
    "specific value within a continuous range.\n",
    "\n",
    "Mathematically, for a continuous random variable X, the PDF is denoted as f(x) and is defined as follows:\n",
    "\n",
    "f(x) ≥ 0 for all x (non-negative)\n",
    "The area under the PDF curve over a specific interval [a, b] represents the probability that X falls within that interval. In\n",
    "other words, the probability of X being in the interval [a, b] is given by the integral of the PDF over that interval:\n",
    "\n",
    "P(a ≤ X ≤ b) = ∫[a, b] f(x) dx\n",
    "\n",
    "The PDF should satisfy the following properties:\n",
    "\n",
    "1.The total area under the curve is equal to 1:\n",
    "    ∫(-∞, ∞) f(x) dx = 1\n",
    "\n",
    "2.The PDF is non-negative for all values of x:\n",
    "    f(x) ≥ 0 for all x\n",
    "\n",
    "3.The PDF integrates to 1 over its entire range.\n",
    "\n",
    "The PDF is essential for understanding the characteristics of continuous random variables and is used to calculate \n",
    "probabilities associated with specific intervals or events involving those variables."
   ]
  },
  {
   "cell_type": "markdown",
   "id": "b09c4116-3dbf-4412-a3f2-5f0ca38262dd",
   "metadata": {},
   "source": [
    "## Q2. What are the types of Probability distribution?"
   ]
  },
  {
   "cell_type": "code",
   "execution_count": null,
   "id": "5e08813e-4a94-4178-a995-d25ce935fe26",
   "metadata": {},
   "outputs": [],
   "source": [
    "There are several types of probability distributions used in statistics, each suited to model different types of random \n",
    "variables and phenomena. Some of the most common probability distributions include:\n",
    "\n",
    "1.Uniform Distribution: In a uniform distribution, all outcomes within a specified range have equal probabilities. It is often \n",
    "used when each outcome is equally likely, such as rolling a fair six-sided die.\n",
    "\n",
    "2.Binomial Distribution: The binomial distribution models the number of successes in a fixed number of independent Bernoulli \n",
    "trials. It has two possible outcomes (success and failure) and is characterized by parameters n (number of trials) and p \n",
    "(probability of success in each trial).\n",
    "\n",
    "3.Poisson Distribution: The Poisson distribution is used to model the number of rare events occurring in a fixed interval of\n",
    "time or space. It is characterized by a single parameter λ (lambda), which represents the average rate of events.\n",
    "\n",
    "4.Normal Distribution: The normal distribution, also known as the Gaussian distribution, is a continuous probability\n",
    "distribution characterized by a bell-shaped curve. It is widely used to model a wide range of natural phenomena and is \n",
    "characterized by its mean (μ) and standard deviation (σ).\n",
    "\n",
    "5.Exponential Distribution: The exponential distribution models the time between events in a Poisson process, where events\n",
    "occur randomly and independently over time. It is characterized by a parameter λ (lambda), which represents the rate of event\n",
    "occurrences.\n",
    "\n",
    "6.Geometric Distribution: The geometric distribution models the number of trials needed to achieve the first success in a \n",
    "sequence of independent Bernoulli trials. It is characterized by a parameter p (probability of success in each trial).\n",
    "\n",
    "7.Hypergeometric Distribution: The hypergeometric distribution is used to model situations where you draw a sample without\n",
    "replacement from a finite population. It is characterized by parameters N (population size), K (number of successes in the \n",
    "population), and n (sample size).\n",
    "\n",
    "8.Gamma Distribution: The gamma distribution is a continuous probability distribution used to model waiting times or the sum\n",
    "of random variables that follow exponential distributions. It is characterized by parameters α (shape) and β (rate).\n",
    "\n",
    "9.Beta Distribution: The beta distribution is a continuous probability distribution defined on the interval [0, 1]. It is\n",
    "often used to model probabilities and proportions and is characterized by parameters α (shape) and β (shape).\n",
    "\n",
    "10.Chi-Square Distribution: The chi-square distribution is used in hypothesis testing and confidence interval construction for\n",
    "the variance of a normally distributed population. It is characterized by its degrees of freedom."
   ]
  },
  {
   "cell_type": "markdown",
   "id": "d6585727-2871-409a-98d9-df9597d5a40a",
   "metadata": {},
   "source": [
    "## Q3. Write a Python function to calculate the probability density function of a normal distribution with given mean and standard deviation at a given point."
   ]
  },
  {
   "cell_type": "code",
   "execution_count": 1,
   "id": "2a403c88-50b2-425d-8f7b-201fd4d528e3",
   "metadata": {},
   "outputs": [
    {
     "name": "stdout",
     "output_type": "stream",
     "text": [
      "PDF at x = 6.0: 0.2420\n"
     ]
    }
   ],
   "source": [
    "import scipy.stats as stats\n",
    "\n",
    "def calculate_normal_pdf(x, mean, std_dev):\n",
    "    \"\"\"\n",
    "    Calculate the probability density function (PDF) of a normal distribution at a given point.\n",
    "\n",
    "    Parameters:\n",
    "    x (float): The point at which to calculate the PDF.\n",
    "    mean (float): The mean of the normal distribution.\n",
    "    std_dev (float): The standard deviation of the normal distribution.\n",
    "\n",
    "    Returns:\n",
    "    float: The PDF value at the given point.\n",
    "    \"\"\"\n",
    "    pdf_value = stats.norm.pdf(x, loc=mean, scale=std_dev)\n",
    "    return pdf_value\n",
    "\n",
    "# Example usage:\n",
    "mean = 5.0  # Mean of the normal distribution\n",
    "std_dev = 1.0  # Standard deviation of the normal distribution\n",
    "x = 6.0  # Point at which to calculate the PDF\n",
    "\n",
    "pdf = calculate_normal_pdf(x, mean, std_dev)\n",
    "print(f\"PDF at x = {x}: {pdf:.4f}\")\n"
   ]
  },
  {
   "cell_type": "markdown",
   "id": "3b45f2f4-8bf7-4b6f-8e65-984a306ac5cc",
   "metadata": {},
   "source": [
    "## Q4. What are the properties of Binomial distribution? Give two examples of events where binomial distribution can be applied."
   ]
  },
  {
   "cell_type": "code",
   "execution_count": null,
   "id": "57fe7050-0b94-4a3e-b7ed-ddcab44de53a",
   "metadata": {},
   "outputs": [],
   "source": [
    "The Binomial distribution is a discrete probability distribution that has several key properties:\n",
    "\n",
    "1.Two Possible Outcomes: Each trial in a binomial distribution can result in one of two mutually exclusive outcomes, typically \n",
    " labeled as \"success\" and \"failure.\"\n",
    "\n",
    "2.Fixed Number of Trials: The number of trials (n) is fixed in advance and does not change during the experiment.\n",
    "\n",
    "3.Independence: Each trial is assumed to be independent of the others, meaning the outcome of one trial does not affect the \n",
    " outcome of subsequent trials.\n",
    "\n",
    "4.Constant Probability of Success: The probability of success (denoted as p) is the same for each trial. The probability of \n",
    " failure is (1 - p).\n",
    "\n",
    "5.Discreteness: The random variable representing the number of successes (k) is discrete, taking on non-negative integer\n",
    " values.\n",
    "\n",
    "6.Parameters: The binomial distribution is characterized by two parameters: n (the number of trials) and p (the probability of\n",
    "  success in each trial).\n",
    "\n",
    "Two common examples of events where the binomial distribution can be applied are:\n",
    "\n",
    "1.Coin Flipping: When flipping a fair coin, where the probability of getting a head (success) is p = 0.5 and the probability \n",
    " of getting a tail (failure) is (1 - p) = 0.5. You can model the number of heads obtained in a fixed number of coin flips (n)\n",
    "using a binomial distribution.\n",
    "\n",
    "2.Quality Control: In manufacturing processes, you can use the binomial distribution to model the number of defective items in\n",
    " a production batch. For example, if you are inspecting a batch of 100 light bulbs, and the probability of a bulb being \n",
    "defective is p = 0.05 (5%), you can calculate the probability of finding a specific number of defective bulbs in the batch\n",
    "using a binomial distribution."
   ]
  },
  {
   "cell_type": "markdown",
   "id": "c02143d6-38d8-4c38-81b8-ac5e48cf0c2b",
   "metadata": {},
   "source": [
    "## Q5. Generate a random sample of size 1000 from a binomial distribution with probability of success 0.4 and plot a histogram of the results using matplotlib."
   ]
  },
  {
   "cell_type": "code",
   "execution_count": 3,
   "id": "0e2fd966-88e5-4db9-9422-66ecad32d189",
   "metadata": {},
   "outputs": [
    {
     "data": {
      "image/png": "[encoded data removed]",
      "text/plain": [
       "<Figure size 640x480 with 1 Axes>"
      ]
     },
     "metadata": {},
     "output_type": "display_data"
    }
   ],
   "source": [
    "import numpy as np\n",
    "import matplotlib.pyplot as plt\n",
    "\n",
    "# Set the parameters\n",
    "n = 1000  # Sample size\n",
    "p = 0.4   # Probability of success\n",
    "\n",
    "# Generate the random sample\n",
    "random_sample = np.random.binomial(n=1, p=p, size=n)\n",
    "\n",
    "# Plot the histogram\n",
    "plt.hist(random_sample, bins=2, density=True, alpha=0.6, color='b')\n",
    "plt.xlabel('Number of Successes')\n",
    "plt.ylabel('Probability')\n",
    "plt.title(f'Binomial Distribution (n={n}, p={p})')\n",
    "plt.xticks([0, 1], ['Failure', 'Success'])\n",
    "plt.grid(axis='y', linestyle='--', alpha=0.6)\n",
    "plt.show()\n"
   ]
  },
  {
   "cell_type": "markdown",
   "id": "761dad29-dfa4-4663-9752-c68808f1b6a8",
   "metadata": {},
   "source": [
    "## Q6. Write a Python function to calculate the cumulative distribution function of a Poisson distribution with given mean at a given point."
   ]
  },
  {
   "cell_type": "code",
   "execution_count": 4,
   "id": "f4382314-b318-48fd-bfbd-97d2404d257b",
   "metadata": {},
   "outputs": [
    {
     "name": "stdout",
     "output_type": "stream",
     "text": [
      "CDF at x = 2: 0.4232\n"
     ]
    }
   ],
   "source": [
    "import scipy.stats as stats\n",
    "\n",
    "def calculate_poisson_cdf(x, mean):\n",
    "    \"\"\"\n",
    "    Calculate the cumulative distribution function (CDF) of a Poisson distribution at a given point.\n",
    "\n",
    "    Parameters:\n",
    "    x (int): The point at which to calculate the CDF.\n",
    "    mean (float): The mean of the Poisson distribution.\n",
    "\n",
    "    Returns:\n",
    "    float: The CDF value at the given point.\n",
    "    \"\"\"\n",
    "    cdf_value = stats.poisson.cdf(x, mu=mean)\n",
    "    return cdf_value\n",
    "\n",
    "# Example usage:\n",
    "mean = 3.0  # Mean of the Poisson distribution\n",
    "x = 2  # Point at which to calculate the CDF\n",
    "\n",
    "cdf = calculate_poisson_cdf(x, mean)\n",
    "print(f\"CDF at x = {x}: {cdf:.4f}\")\n"
   ]
  },
  {
   "cell_type": "markdown",
   "id": "1e3e9de7-cb18-4c8e-8b22-a5778816ffe7",
   "metadata": {},
   "source": [
    "## Q7. How Binomial distribution different from Poisson distribution?"
   ]
  },
  {
   "cell_type": "code",
   "execution_count": null,
   "id": "2e302736-ea68-4050-b06f-f205ee55b3f2",
   "metadata": {},
   "outputs": [],
   "source": [
    "The Binomial distribution and the Poisson distribution are both probability distributions used to model the number of events\n",
    "or successes in a series of trials or observations. However, they have distinct differences in their characteristics and\n",
    "applications:\n",
    "\n",
    "1.Nature of Trials:\n",
    "\n",
    "    ~Binomial Distribution: The Binomial distribution is used when the trials or observations are discrete and follow a fixed\n",
    "     number of independent, identical Bernoulli trials, each having two possible outcomes (success and failure).\n",
    "    ~Poisson Distribution: The Poisson distribution is used when the trials or observations are discrete and represent events\n",
    "     that occur randomly in a fixed interval of time or space. The events are rare and irregularly spaced.\n",
    "        \n",
    "2.Number of Trials:\n",
    "\n",
    "    ~Binomial Distribution: In the Binomial distribution, the number of trials (n) is fixed and known in advance.\n",
    "    ~Poisson Distribution: In the Poisson distribution, there is no fixed number of trials. Events occur randomly over time or\n",
    "     space, and the number of events is not predetermined.\n",
    "        \n",
    "3.Probability Parameters:\n",
    "\n",
    "    ~Binomial Distribution: The Binomial distribution is characterized by two parameters: n (the number of trials) and p \n",
    "     (the probability of success in each trial).\n",
    "    ~Poisson Distribution: The Poisson distribution is characterized by a single parameter λ (lambda), which represents the \n",
    "     average rate of events in the fixed interval.\n",
    "        \n",
    "4.Continuous vs. Discrete:\n",
    "\n",
    "    ~Binomial Distribution: The random variable in the Binomial distribution represents a count of successes and is discrete.\n",
    "    ~Poisson Distribution: The random variable in the Poisson distribution also represents a count of events but is discrete.\n",
    "    \n",
    "5.Applicability:\n",
    "\n",
    "    ~Binomial Distribution: The Binomial distribution is commonly used when you have a fixed number of trials, and you want to\n",
    "     model the number of successes in those trials. Examples include coin flips, the number of defective items in a sample, and\n",
    "    the number of successful phone calls in a call center during a fixed time period.\n",
    "    ~Poisson Distribution: The Poisson distribution is used when events occur randomly and independently over time or space.\n",
    "     It's suitable for modeling rare and infrequent events, such as the number of customer arrivals at a store in an hour, the\n",
    "    number of accidents at an intersection in a day, or the number of phone calls to a customer service center in a minute."
   ]
  },
  {
   "cell_type": "markdown",
   "id": "3958c5d2-562d-409b-a754-2db753a1240c",
   "metadata": {},
   "source": [
    "## Q8. Generate a random sample of size 1000 from a Poisson distribution with mean 5 and calculate the sample mean and variance."
   ]
  },
  {
   "cell_type": "code",
   "execution_count": 5,
   "id": "3cdf3e5c-9b65-43ec-b562-20c63467a3af",
   "metadata": {},
   "outputs": [
    {
     "name": "stdout",
     "output_type": "stream",
     "text": [
      "Sample Mean: 4.8920\n",
      "Sample Variance: 5.0494\n"
     ]
    }
   ],
   "source": [
    "import numpy as np\n",
    "\n",
    "# Set the parameters\n",
    "mean = 5.0  # Mean of the Poisson distribution\n",
    "sample_size = 1000  # Sample size\n",
    "\n",
    "# Generate the random sample\n",
    "random_sample = np.random.poisson(lam=mean, size=sample_size)\n",
    "\n",
    "# Calculate the sample mean and variance\n",
    "sample_mean = np.mean(random_sample)\n",
    "sample_variance = np.var(random_sample, ddof=1)  # Use ddof=1 for sample variance\n",
    "\n",
    "print(f\"Sample Mean: {sample_mean:.4f}\")\n",
    "print(f\"Sample Variance: {sample_variance:.4f}\")\n"
   ]
  },
  {
   "cell_type": "markdown",
   "id": "ba7a1632-e2e5-45d7-b2eb-dfd3d1a7cf2b",
   "metadata": {},
   "source": [
    "## Q9. How mean and variance are related in Binomial distribution and Poisson distribution?"
   ]
  },
  {
   "cell_type": "code",
   "execution_count": null,
   "id": "6b790bb7-4347-4c2a-971a-4017626b855c",
   "metadata": {},
   "outputs": [],
   "source": [
    "In both the Binomial distribution and the Poisson distribution, the relationship between the mean (also known as the expected \n",
    "value) and the variance is a fundamental characteristic of the respective distributions. Here's how mean and variance are\n",
    "related in each of these distributions:\n",
    "\n",
    "Binomial Distribution:\n",
    "\n",
    "In a Binomial distribution with parameters n (number of trials) and p (probability of success in each trial), the mean (μ) and\n",
    "the variance (σ²) are related as follows:\n",
    "\n",
    "1.Mean (μ): The mean of a Binomial distribution is given by μ = np, where n is the number of trials and p is the probability\n",
    " of success in each trial.\n",
    "\n",
    "2.Variance (σ²): The variance of a Binomial distribution is given by σ² = np(1 - p), where n is the number of trials and p is\n",
    " the probability of success in each trial.\n",
    "\n",
    "In summary, the variance in a Binomial distribution is directly proportional to both the number of trials (n) and the\n",
    "probability of success (p). As n or p increases, the variance also increases.\n",
    "\n",
    "Poisson Distribution:\n",
    "\n",
    "In a Poisson distribution with parameter λ (lambda), which represents the average rate of events occurring in a fixed interval\n",
    "of time or space, the mean (μ) and the variance (σ²) are related as follows:\n",
    "\n",
    "1.Mean (μ): The mean of a Poisson distribution is given by μ = λ.\n",
    "\n",
    "2.Variance (σ²): The variance of a Poisson distribution is also given by σ² = λ.\n",
    "\n",
    "In the Poisson distribution, the mean and the variance are equal and are both determined by the single parameter λ. This means\n",
    "that the variability (spread) in the distribution is solely determined by the average rate λ, and as λ changes, both the mean \n",
    "and the variance change accordingly.\n",
    "\n",
    "In summary, in the Binomial distribution, the variance depends on both the number of trials (n) and the probability of success \n",
    "(p), while in the Poisson distribution, the variance is solely determined by the mean parameter λ, and both the mean and\n",
    "variance are equal."
   ]
  },
  {
   "cell_type": "markdown",
   "id": "43e9f2ba-6e05-4ad2-bad5-7bcd22b56784",
   "metadata": {},
   "source": [
    "## Q10. In normal distribution with respect to mean position, where does the least frequent data appear?"
   ]
  },
  {
   "cell_type": "code",
   "execution_count": null,
   "id": "2565b7fd-7c5c-4b75-8f43-f299cf01bd81",
   "metadata": {},
   "outputs": [],
   "source": [
    "In a normal distribution, also known as a Gaussian distribution, the least frequent data points appear in the tails of the\n",
    "distribution, farthest from the mean. Specifically, the least frequent data points are found in the extreme tails of the\n",
    "distribution, both on the left side (negative values) and the right side (positive values) of the mean.\n",
    "\n",
    "Here's a graphical representation of a normal distribution:\n",
    "\n",
    "              |                     . \n",
    "              |                   .\n",
    "              |                 .\n",
    "              |               .\n",
    "              |             .\n",
    "              |           .\n",
    "              |         .\n",
    "              |       .\n",
    "              |     .\n",
    "              |   .\n",
    "              | .\n",
    "-----------------------------------------\n",
    "\n",
    "In this distribution, the data points near the center (around the mean) are the most frequent, while the data points in the \n",
    "tails (far from the mean) are less frequent. The tails represent the extreme values of the random variable and occur with low\n",
    "probabilities. Therefore, data points in the tails are the least frequent in a normal distribution.\n",
    "\n",
    "In a standard normal distribution (mean = 0, standard deviation = 1), for example, data points with Z-scores that are very\n",
    "large in magnitude (far from 0) in either the positive or negative direction are the least frequent. These represent extreme\n",
    "values that are highly unlikely to occur in a normal distribution."
   ]
  }
 ],
 "metadata": {
  "kernelspec": {
   "display_name": "Python 3 (ipykernel)",
   "language": "python",
   "name": "python3"
  },
  "language_info": {
   "codemirror_mode": {
    "name": "ipython",
    "version": 3
   },
   "file_extension": ".py",
   "mimetype": "text/x-python",
   "name": "python",
   "nbconvert_exporter": "python",
   "pygments_lexer": "ipython3",
   "version": "3.10.8"
  }
 },
 "nbformat": 4,
 "nbformat_minor": 5
}
